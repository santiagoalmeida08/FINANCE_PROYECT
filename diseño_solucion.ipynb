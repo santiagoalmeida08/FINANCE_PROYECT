{
 "cells": [
  {
   "cell_type": "markdown",
   "metadata": {},
   "source": [
    "**PROBLEMA DE NEGOCIO**\n",
    "\n",
    "Definir los intereses a cobrar a los clientes que solicitan por primera vez un credito de libre inversión, se debe tener en cuenta que este interes no puede ser muy alto ya que esto representaria que el cliente desista del credito solicitado. "
   ]
  },
  {
   "cell_type": "markdown",
   "metadata": {},
   "source": [
    "**OBJETIVO**\n",
    "\n",
    "-Predecir el porcentaje del credito que el cliente va a  pagar (el modelo se realiza inicialmente con la tabla de creditos historicos y se aplica a los nuevos solicitantes).\n",
    "\n",
    "-En base a los resultados del modelo anterior evaluar el monto de interes a cobrar a grupos de clientes segun su porcentaje de pago.\n",
    "\n",
    "-Minimizar el  interes asociado al riesgo segun el tipo de cliente sin comprometer las ganancias del banco(15%)."
   ]
  },
  {
   "cell_type": "markdown",
   "metadata": {},
   "source": [
    "**ESTRUCTURA DISEÑO DE LA SOLUCION**\n",
    "\n",
    "1. Inicia con los  prestamos de libre inversion realizados en el pasado que se han registrado en las bases de datos.\n",
    "\n",
    "2. Se realiza el respectivo analisis exploratorio.\n",
    "\n",
    "3. Construccion de un modelo para predecir el porcentaje de pago del cliente.\n",
    "\n",
    "4. Implementación del modelo en los solicitantes de credito actuales.\n",
    "\n",
    "5. Comunicación de resultados \n",
    "\n",
    "6. Definicion del interes asociado al riesgo crediticio, este sera inversamente proporcional al porcentaje que se espera que paguen los solicitantes, de esta forma entre menor porcenraje del credito el cliente este dispuesto a pagar, mayor sera la tasa de interes asociada al riesgo crediticio.\n",
    "\n",
    "\n",
    "\n",
    "O TAMBIEN AGRUPAR EN LA BASE HISTORICA CON LA VARIABLE NO PAGO PARA DESPUES APLICARLA EN LA NUEVA Y SE SEGUIRIA LA MISMA LOGICA DE INTERES; ADEMAS DE ESTO SE PUEDE REALIZAR MODELOS DE CLASIFICACION \n",
    "\n",
    "DETALLAR EN EL DISEÑO DE LA SOLUCION BIEN EN QUE BASES SE HACEN LOS MODELOS "
   ]
  }
 ],
 "metadata": {
  "language_info": {
   "name": "python"
  }
 },
 "nbformat": 4,
 "nbformat_minor": 2
}
